{
 "cells": [
  {
   "cell_type": "markdown",
   "metadata": {},
   "source": [
    "## Projet Analyse Numérique"
   ]
  },
  {
   "cell_type": "code",
   "execution_count": 2,
   "metadata": {},
   "outputs": [],
   "source": [
    "import random\n",
    "from matplotlib.colors import LightSource\n",
    "import numpy as np\n",
    "import matplotlib.pyplot as plt\n",
    "import math\n",
    "from matplotlib import cm\n",
    "from matplotlib.ticker import LinearLocator"
   ]
  },
  {
   "cell_type": "markdown",
   "metadata": {},
   "source": [
    "### Optimisation d'une fonction d'une variable réelle"
   ]
  },
  {
   "cell_type": "markdown",
   "metadata": {},
   "source": [
    "Question B.1"
   ]
  },
  {
   "cell_type": "code",
   "execution_count": null,
   "metadata": {},
   "outputs": [],
   "source": [
    "# Methodes de balayage pour chercher le minimum\n",
    "\n",
    "def f(x):\n",
    "    return pow(x, 3) - 3 * pow(x, 2) + 2 * x + 5\n",
    "\n",
    "def mf(x):\n",
    "    return -(pow(x, 3) - 3 * pow(x, 2) + 2 * x + 5)\n",
    "\n",
    "def chercheMinPasConstant(f, a, b, n):\n",
    "    dx = abs(b - a) / n\n",
    "    min = f(a)\n",
    "    for i in range(n):\n",
    "        if(f(a + dx * i) < min):\n",
    "            min = f(a + dx * i)\n",
    "    return min\n",
    "\n",
    "def BalAlea(f,a,b,N):\n",
    "    Val = f(a+ (b-a)*random.random())\n",
    "    for i in range(N+1):\n",
    "        N = f(a+(b-a)*random.random())\n",
    "        if(Val>N):\n",
    "            Val=N\n",
    "    return Val"
   ]
  },
  {
   "cell_type": "markdown",
   "metadata": {},
   "source": [
    "Question B.2"
   ]
  },
  {
   "cell_type": "code",
   "execution_count": null,
   "metadata": {},
   "outputs": [],
   "source": [
    "print(chercheMinPasConstant(f,0,3,1000))\n",
    "print(BalAlea(f,0,3,1000))    "
   ]
  },
  {
   "cell_type": "markdown",
   "metadata": {},
   "source": [
    "Question B.3"
   ]
  },
  {
   "cell_type": "code",
   "execution_count": null,
   "metadata": {},
   "outputs": [],
   "source": [
    "#À calculer à la main \n",
    "minreelle = (3 + np.sqrt(3)) / 6\n",
    "n = 1000\n",
    "a = 0\n",
    "b = 3\n",
    "\n",
    "pasConstantErreur = []\n",
    "aleatoireErreur= []\n",
    "\n",
    "for i in range(n):\n",
    "    pasConstantErreur.append(abs(minreelle - chercheMinPasConstant(f, a, b, i + 1)))\n",
    "    aleatoireErreur.append(abs(minreelle - BalAlea(f, a, b, i + 1)))\n",
    "\n",
    "X = [k + 1 for k in range(n)]\n",
    "\n",
    "plt.plot(np.log(X), np.log(pasConstantErreur), 'r-', label=\"Erreur pour la methode pas constant\")\n",
    "plt.plot(np.log(X), np.log(aleatoireErreur), 'b-', label=\"Erreur pour la methode pas aleatoire\")\n",
    "plt.ylabel('ln(err)')\n",
    "plt.xlabel ('X')\n",
    "plt.legend()\n",
    "plt.show()"
   ]
  },
  {
   "cell_type": "markdown",
   "metadata": {},
   "source": [
    "Question B.4"
   ]
  },
  {
   "cell_type": "code",
   "execution_count": null,
   "metadata": {},
   "outputs": [],
   "source": [
    "# pour chercher le maximum de f avec la meme methode\n",
    "# mf représente -f\n",
    "print(-chercheMinPasConstant(mf, a, b, n))\n",
    "print(-BalAlea(mf, a, b, n))"
   ]
  },
  {
   "cell_type": "markdown",
   "metadata": {},
   "source": [
    "Question B.5 \n",
    "> Pour chaque iteration de n on ajoute ou enleve de la valeur de x dans la direction du minimum. En fait la dérivée $f'(x_{n})$ montre la pente de la fonction en $x_{n}$, ainsi en le multipliant par $u < 0$ adaptée et ce ajoutant au $x_{n}$ on s'apporche du minimum."
   ]
  },
  {
   "cell_type": "markdown",
   "metadata": {},
   "source": [
    "Question B.6"
   ]
  },
  {
   "cell_type": "code",
   "execution_count": null,
   "metadata": {},
   "outputs": [],
   "source": [
    "# méthodes du gradiant 1D\n",
    "\n",
    "x0 = a + (b - a) * random.random()\n",
    "\n",
    "u = -0.01  #t = -0.28876 pour optimale\n",
    "\n",
    "def fder(x):\n",
    "    return (3 * math.pow(x, 2) - 6 * x + 2)\n",
    "\n",
    "for i in range(n):\n",
    "    if(i == 0):\n",
    "        xnp1 = x0 + u * fder(x0)\n",
    "    else:\n",
    "        xnp1 = xnp1 + u * fder(xnp1)\n",
    "        #print(xnp1)\n",
    "\n",
    "print(f(xnp1))\n",
    "print(\"xnp1\" , xnp1)"
   ]
  },
  {
   "cell_type": "markdown",
   "metadata": {},
   "source": [
    "Question B.7"
   ]
  },
  {
   "cell_type": "code",
   "execution_count": null,
   "metadata": {},
   "outputs": [],
   "source": [
    "#B.7.a# -----------------\n",
    "\n",
    "def fder2(x): #f''(x)\n",
    "    return 6 * x - 6\n",
    "\n",
    "def phi(t): #𝜑(t)\n",
    "    return f(xnp1 + t * fder(xnp1))\n",
    "\n",
    "def phider(t):#𝜑'(t)\n",
    "    return (fder(xnp1 + t * fder(xnp1)) * fder(xnp1))\n",
    "\n",
    "def phider2(t): #𝜑''(t)\n",
    "    return (fder2(xnp1 + t * fder(xnp1)) * math.pow(fder(xnp1), 2))\n",
    "\n",
    "print(phider(0))\n",
    "print(phider2(0))\n",
    "\n",
    "#B.7.b# -----------------\n",
    "\n",
    "def phiDL(t): \n",
    "    return phider(0) + phider2(0) * t\n",
    "\n",
    "#t = (-phider(0)/phider2(0))\n"
   ]
  },
  {
   "cell_type": "markdown",
   "metadata": {},
   "source": [
    "### Optimisation d'une fonction de deux variables réelles"
   ]
  },
  {
   "cell_type": "markdown",
   "metadata": {},
   "source": [
    "Question C.8"
   ]
  },
  {
   "cell_type": "code",
   "execution_count": null,
   "metadata": {},
   "outputs": [],
   "source": [
    "#  Nabla <=> derivée partiel\n",
    "# plot_surface \n",
    "\n",
    "def g(x, y, a, b):\n",
    "    return (pow(x, 2) / a) + pow(y, 2) / b\n",
    "\n",
    "def h(x, y):\n",
    "    A = np.cos(x)\n",
    "    B = np.sin(y)\n",
    "    return (A)*(B)\n",
    "\n",
    "x = np.arange(-10, 10, 0.25)\n",
    "y = np.arange(-10, 10)\n",
    "\n",
    "a = 2\n",
    "b = 2/7\n",
    "\n",
    "fig, ax = plt.subplots(subplot_kw={\"projection\": \"3d\"})\n",
    "\n",
    "x, y = np.meshgrid(x, y)\n",
    "\n",
    "z =  g(x, y, a, b)\n",
    "\n",
    "# Customize the z axis.\n",
    "ax.plot_surface(x, y, z, vmin=z.min() * 2, cmap=cm.Blues)\n",
    "\n",
    "ax.set(xticklabels=[],\n",
    "       yticklabels=[],\n",
    "       zticklabels=[])\n",
    "\n",
    "plt.show()\n",
    "\n",
    "x1 = np.arange(-10, 10, 0.1)\n",
    "y1 = np.arange(-10, 10, 0.1)\n",
    "x1, y1 = np.meshgrid(x1, y1)\n",
    "z1 = h(x1, y1)\n",
    "\n",
    "fig1, ax1 = plt.subplots(subplot_kw={\"projection\": \"3d\"})\n",
    "ax1.plot_surface(x1, y1, z1, vmin=z1.min() * 2, cmap=cm.Blues)\n",
    "ax1.set(xticklabels=[],\n",
    "       yticklabels=[],\n",
    "       zticklabels=[])\n",
    "plt.show()\n"
   ]
  },
  {
   "cell_type": "markdown",
   "metadata": {},
   "source": [
    "Question C.9"
   ]
  },
  {
   "cell_type": "code",
   "execution_count": null,
   "metadata": {},
   "outputs": [],
   "source": [
    "plt.style.use('_mpl-gallery-nogrid')\n",
    "#G\n",
    "# make data\n",
    "X, Y = np.meshgrid(np.linspace(-10,10), np.linspace(-10,10))\n",
    "Z = g(X,Y, 2,2/7)\n",
    "levels = np.linspace(Z.min(), Z.max(), 7)\n",
    "\n",
    "# plot\n",
    "fig, ax = plt.subplots()\n",
    "\n",
    "ax.contourf(X, Y, Z, levels=levels)\n",
    "\n",
    "plt.show()\n",
    "#H\n",
    "Z = h(X,Y)\n",
    "levels = np.linspace(Z.min(), Z.max(), 7)\n",
    "\n",
    "# plot\n",
    "fig, ax = plt.subplots()\n",
    "\n",
    "ax.contourf(X, Y, Z, levels=levels)\n",
    "\n",
    "plt.show()"
   ]
  },
  {
   "cell_type": "markdown",
   "metadata": {},
   "source": [
    "Question C.10"
   ]
  },
  {
   "cell_type": "code",
   "execution_count": null,
   "metadata": {},
   "outputs": [],
   "source": [
    "def gradg(x, y, a, b):\n",
    "    return(((2*x)/a ) + (y**2)/b, (x**2)/a + (2*y)/b)\n",
    "\n",
    "def gradh(x, y):\n",
    "    return (-np.sin(x)*np.sin(y), np.cos(x)* np.cos(y))"
   ]
  },
  {
   "cell_type": "markdown",
   "metadata": {},
   "source": [
    "Question C.11"
   ]
  },
  {
   "cell_type": "code",
   "execution_count": null,
   "metadata": {},
   "outputs": [],
   "source": [
    "point = (0, 1)\n",
    "point2 = (1, 1)\n",
    "\n",
    "print(gradg(point[0], point[1], a, b))\n",
    "print(gradh(point[0], point[1]))\n",
    "print(np.linalg.norm(gradg(point[0], point[1], a, b)))"
   ]
  },
  {
   "cell_type": "markdown",
   "metadata": {},
   "source": [
    "Question C.12"
   ]
  },
  {
   "cell_type": "code",
   "execution_count": null,
   "metadata": {},
   "outputs": [],
   "source": [
    "\n",
    "#pas constant\n",
    "\n",
    "def gradpc(eps, MaxIter, u, x0, y0, df1, df2):\n",
    "    a = 2\n",
    "    b = 2/7\n",
    "    index = 0\n",
    "    points = []\n",
    "    (xnp1, ynp1) = np.array((x0, y0))\n",
    "    points.append((xnp1, ynp1))\n",
    "    while(eps < np.linalg.norm((df1(xnp1, ynp1, a, b), df2(xnp1, ynp1, a, b))) and index < MaxIter):\n",
    "        index+=1\n",
    "        (xnp1, ynp1) = (xnp1, ynp1) + u * np.array((df1(xnp1, ynp1, a, b), df2(xnp1, ynp1, a, b)))\n",
    "        points.append((xnp1, ynp1))\n",
    "    return points\n",
    "\n",
    "\n",
    "def gradpc2(eps, MaxIter, u, x0, y0, df1, df2):\n",
    "    index = 0\n",
    "    points = []\n",
    "    (xnp1, ynp1) = np.array((x0, y0))\n",
    "    points.append((xnp1, ynp1))\n",
    "    while(eps < np.linalg.norm((df1(xnp1, ynp1), df2(xnp1, ynp1))) and index < MaxIter):\n",
    "        index+=1\n",
    "        (xnp1, ynp1) = (xnp1, ynp1) + u * np.array((df1(xnp1, ynp1), df2(xnp1, ynp1)))\n",
    "        points.append((xnp1, ynp1))\n",
    "    return points\n"
   ]
  },
  {
   "cell_type": "markdown",
   "metadata": {},
   "source": [
    "Question C.13"
   ]
  },
  {
   "cell_type": "code",
   "execution_count": null,
   "metadata": {},
   "outputs": [],
   "source": [
    "(x01, y01) = (0, 0)\n",
    "\n",
    "#derivée partielle par rapport a x de g\n",
    "def dpgx(x, y, a, b):\n",
    "    return (((2*x)/a ) + (y**2)/b)\n",
    "\n",
    "#derivée partielle par rapport a y de g\n",
    "def dpgy(x, y, a, b):\n",
    "    return (x**2)/a + (2*y)/b\n",
    "\n",
    "def dphx(x, y):\n",
    "    return -np.sin(x)*np.sin(y)\n",
    "\n",
    "def dphy(x, y):\n",
    "    return np.cos(x)* np.cos(y)\n",
    "\n",
    "pointsg = gradpc(10**-5, 120, -0.1, 7, 1.5, dpgx, dpgy)\n",
    "pointsh = gradpc2(10**-5, 120, -0.1, 0, 0, dphx, dphy)\n",
    "\n",
    "\n",
    "#G\n",
    "xs = [x[0] for x in pointsg]\n",
    "ys = [y[1] for y in pointsg]\n",
    "Xg, Yg = np.meshgrid(np.linspace(0,7), np.linspace(-5,5))\n",
    "Zg = g(Xg,Yg, 2,2/7)\n",
    "levelsG = np.linspace(Zg.min(), Zg.max(), 15)\n",
    "\n",
    "figg, axg = plt.subplots()\n",
    "\n",
    "axg.contourf(Xg, Yg, Zg, levels=levelsG)\n",
    "axg.plot(xs, ys)\n",
    "plt.plot()\n",
    "plt.show()\n",
    "\n",
    "#H\n",
    "xs = [x[0] for x in pointsh]\n",
    "ys = [y[1] for y in pointsh]\n",
    "X, Y= np.meshgrid(np.linspace(-1,1), np.linspace(-2.5,0))\n",
    "Z = h(X,Y)\n",
    "levels = np.linspace(Z.min(), Z.max(), 7)\n",
    "\n",
    "fig, ax = plt.subplots()\n",
    "\n",
    "ax.contourf(X, Y, Z, levels=levels)\n",
    "ax.plot(xs, ys)\n",
    "plt.plot()\n",
    "plt.show()"
   ]
  },
  {
   "cell_type": "markdown",
   "metadata": {},
   "source": [
    "Question C.14"
   ]
  },
  {
   "cell_type": "code",
   "execution_count": null,
   "metadata": {},
   "outputs": [],
   "source": [
    "def gradG(eps, MaxIter, u, x0, y0, df1, df2):\n",
    "    a = 1\n",
    "    b = 20\n",
    "    index = 0\n",
    "    points = []\n",
    "    (xnp1, ynp1) = np.array((x0, y0))\n",
    "    while(eps < np.linalg.norm((df1(xnp1, ynp1, a, b), df2(xnp1, ynp1, a, b))) and index < MaxIter):\n",
    "        index += 1\n",
    "        (xnp1, ynp1) = (xnp1, ynp1) + u * np.array((df1(xnp1, ynp1, a, b), df2(xnp1, ynp1, a, b)))\n",
    "    return (xnp1, ynp1)\n",
    "\n",
    "a = 1\n",
    "b = 20\n",
    "eps = 10**(-5)\n",
    "maxiter = 120\n",
    "u = np.linspace(-0.99, -0.001, 50)\n",
    "np.linalg.norm((0,0))\n",
    "valeur_reel = (0, 0)\n",
    "pointsg = [np.linalg.norm(gradG(10**-5, 120, i, 1, 1, dpgx, dpgy)) for i in u]\n",
    "print(pointsg)\n",
    "plt.plot(u,pointsg)\n",
    "plt.show()"
   ]
  },
  {
   "cell_type": "markdown",
   "metadata": {},
   "source": [
    "Question C.15"
   ]
  },
  {
   "cell_type": "code",
   "execution_count": null,
   "metadata": {},
   "outputs": [],
   "source": [
    "def neug(c, a, b):\n",
    "    return (pow(c[0], 2) / a) + pow(c[1], 2) / b\n",
    "\n",
    "def neuh(c):\n",
    "    return h(c[0],c[1])\n",
    "\n",
    "def gradamax(eps, MaxIter, u, x0, y0, f, df1, df2):\n",
    "    a = 2\n",
    "    b = 2/7\n",
    "    k = 0\n",
    "    (xnp1, ynp1) = (x0, y0)\n",
    "    F1 = f((xnp1, ynp1) + k * np.abs(u) * np.array((df1(xnp1, ynp1, a, b), df2(xnp1, ynp1, a, b))), a, b)\n",
    "    F2 = f((xnp1, ynp1) + (k + 1) * np.abs(u) * np.array((df1(xnp1, ynp1, a, b), df2(xnp1, ynp1, a, b))), a, b)\n",
    "    while(F1 < F2 and k < MaxIter and eps < np.linalg.norm((df1(xnp1, ynp1, a, b), df2(xnp1, ynp1, a, b)))):\n",
    "        k += 1   \n",
    "        (xnp1, ynp1) = ((xnp1, ynp1) + (k + 1) * np.abs(u) * np.array((df1(xnp1, ynp1, a, b), df2(xnp1, ynp1, a, b))))\n",
    "        F1 = f((xnp1, ynp1) + k * np.abs(u) * np.array((df1(xnp1, ynp1, a, b), df2(xnp1, ynp1, a, b))), a, b)\n",
    "        F2 = f((xnp1, ynp1) + (k + 1) * np.abs(u) * np.array((df1(xnp1, ynp1, a, b), df2(xnp1, ynp1, a, b))), a, b)\n",
    "    return (xnp1, ynp1)\n",
    "\n",
    "def gradamax2(eps, MaxIter, u, x0, y0, f, df1, df2):\n",
    "    k = 0\n",
    "    (xnp1, ynp1) = (x0, y0)\n",
    "    F1 = f((xnp1, ynp1) + k * np.abs(u) * np.array((df1(xnp1, ynp1), df2(xnp1, ynp1))))\n",
    "    F2 = f((xnp1, ynp1) + (k + 1) * np.abs(u) * np.array((df1(xnp1, ynp1), df2(xnp1, ynp1))))\n",
    "    while(F1 < F2 and k < MaxIter and eps < np.linalg.norm((df1(xnp1, ynp1), df2(xnp1, ynp1)))):\n",
    "        k += 1   \n",
    "        (xnp1, ynp1) = ((xnp1, ynp1) + (k + 1) * np.abs(u) * np.array((df1(xnp1, ynp1), df2(xnp1, ynp1))))\n",
    "        F1 = f((xnp1, ynp1) + k * np.abs(u) * np.array((df1(xnp1, ynp1), df2(xnp1, ynp1))))\n",
    "        F2 = f((xnp1, ynp1) + (k + 1) * np.abs(u) * np.array((df1(xnp1, ynp1), df2(xnp1, ynp1))))\n",
    "    return (xnp1, ynp1)\n",
    "\n",
    "point = gradamax2(10**-5, 120, -0.01, 1.5, 1.5, neuh, dphx, dphy)\n",
    "print(point)"
   ]
  },
  {
   "cell_type": "markdown",
   "metadata": {},
   "source": [
    "Question C.16"
   ]
  },
  {
   "cell_type": "code",
   "execution_count": null,
   "metadata": {},
   "outputs": [],
   "source": [
    "def gradamin(eps, MaxIter, u, x0, y0, f, df1, df2):\n",
    "    k = 0\n",
    "    (xnp1, ynp1) = (x0, y0)\n",
    "    F1 = f((xnp1, ynp1) + k * u * np.array((df1(xnp1, ynp1), df2(xnp1, ynp1))))\n",
    "    F2 = f((xnp1, ynp1) + (k + 1) * u * np.array((df1(xnp1, ynp1), df2(xnp1, ynp1))))\n",
    "    while(F1 > F2 and k < MaxIter and eps < np.linalg.norm((df1(xnp1, ynp1), df2(xnp1, ynp1)))):\n",
    "        k += 1   \n",
    "        (xnp1, ynp1) = ((xnp1, ynp1) + (k + 1) * u * np.array((df1(xnp1, ynp1), df2(xnp1, ynp1))))\n",
    "        F1 = f((xnp1, ynp1) + k * u * np.array((df1(xnp1, ynp1), df2(xnp1, ynp1))))\n",
    "        F2 = f((xnp1, ynp1) + (k + 1) * u * np.array((df1(xnp1, ynp1), df2(xnp1, ynp1))))\n",
    "    return [k, xnp1, ynp1]"
   ]
  },
  {
   "cell_type": "markdown",
   "metadata": {},
   "source": [
    "Question C.17"
   ]
  },
  {
   "cell_type": "code",
   "execution_count": null,
   "metadata": {},
   "outputs": [],
   "source": [
    "def gradG(eps, MaxIter, u, x0, y0, df1, df2):\n",
    "    a = 1\n",
    "    b = 20\n",
    "    index = 0\n",
    "    points = []\n",
    "    (xnp1, ynp1) = np.array((x0, y0))\n",
    "    while(eps < np.linalg.norm((df1(xnp1, ynp1, a, b), df2(xnp1, ynp1, a, b))) and index < MaxIter):\n",
    "        index += 1\n",
    "        (xnp1, ynp1) = (xnp1, ynp1) + u * np.array((df1(xnp1, ynp1, a, b), df2(xnp1, ynp1, a, b)))\n",
    "    return [index,xnp1, ynp1]\n",
    "\n",
    "def neug(c):\n",
    "    a=1\n",
    "    b=20\n",
    "    return (pow(c[0], 2) / a) + pow(c[1], 2) / b\n",
    "\n",
    "def neudpgx(x,y):\n",
    "    a=1\n",
    "    b=20\n",
    "    return dpgx(x,y,a,b)\n",
    "def neudpgy(x,y):\n",
    "    a=1\n",
    "    b=20\n",
    "    return dpgy(x,y,a,b)\n",
    "\n",
    "print(gradamin(10**-5, 120, -0.01, 1, 1, neug, neudpgx, neudpgy))\n",
    "\n",
    "u = np.linspace(-0.999, -0.001, 100)\n",
    "\n",
    "xmethode1 = [gradG(10**-5, 120, m, 7, 1.5, dpgx, dpgy)[0] for m in u]\n",
    "xmethode2 = [gradamin(10**-5, 120, m, 7, 1.5, neug, neudpgx, neudpgy)[0] for m in u]\n",
    "\n",
    "plt.plot(u, xmethode1, label = 'gradG', color = \"red\")\n",
    "plt.plot(u, xmethode2, label = 'gradamin')\n",
    "plt.legend()\n",
    "plt.show()"
   ]
  },
  {
   "cell_type": "markdown",
   "metadata": {},
   "source": [
    "### Calcule de l'inverse d'une matrice"
   ]
  },
  {
   "cell_type": "code",
   "execution_count": null,
   "metadata": {},
   "outputs": [],
   "source": [
    "def gpo(y, A, b, eps):\n",
    "    index = 0\n",
    "    y_k = y\n",
    "    G_yk = 2 * (A * y_k - b)\n",
    "    rho_k = (np.linalg.norm(G_yk)**2) / (2 * np.transpose(G_yk) * A * G_yk)  if G_yk.all() != 0 else 0\n",
    "    y_kp1 = y_k - rho_k[0, 0] * G_yk\n",
    "    print(y_kp1)\n",
    "    while(index < 130 and eps < np.linalg.norm(y_kp1 - y_k)):\n",
    "        index += 1\n",
    "        y_k = y_kp1 \n",
    "        rho_k = (np.linalg.norm(G_yk)**2) / (2 * np.transpose(G_yk) * A * G_yk)  if G_yk.all() != 0 else 0\n",
    "        G_yk = 2 * (A * y_k - b)\n",
    "        y_kp1 = y_k - rho_k[0, 0] * G_yk\n",
    "    return [index, y_kp1]\n",
    "\n",
    "a = 1\n",
    "b = 20\n",
    "alpha = 1/a\n",
    "gamma = 1/b\n",
    "        \n",
    "A_2d = np.matrix(f'{alpha} 0; 0 {gamma}')\n",
    "\n",
    "y = np.matrix('1; 1')\n",
    "bm = np.matrix('0; 0')\n",
    "\n",
    "gpo(y, A_2d, bm, 10**-5)"
   ]
  },
  {
   "cell_type": "markdown",
   "metadata": {},
   "source": [
    "### Application a des problemes de transfert de la chaleur"
   ]
  },
  {
   "cell_type": "markdown",
   "metadata": {},
   "source": [
    "$\n",
    "    \\forall x \\in \\left] 0, 1 \\right[ \\ \\ -\\frac{d^2T}{dx^2}(x) + c(x)T(x) = f(x) \\\\ T(0) = a, T(1) = b \\\\\n",
    "    c = 0, f = 0 \\implies -\\frac{d^2T}{dx^2}(x) = 0 \\implies \\frac{d^2T}{dx^2}(x) = 0 \n",
    "$\n",
    "\n",
    "On peut approximer $\\frac{d^2T}{dx^2}(x_i) \\approx \\frac{T(x_i + dx) - 2 \\cdot T(x_i) + T(x_i - dx)}{dx^2}$\n",
    "\n",
    "\n",
    "\n",
    "ainsi obtenant\n",
    "$ \\frac{1}{dx^2} \\cdot \n",
    "    \\begin{pmatrix}\n",
    "        -2 & 1 & 0 & 0 & \\cdots & 0 \\\\\n",
    "        1 & -2 & 1 & 0 & \\cdots & 0 \\\\\n",
    "        0 & 1 & -2 & 1 & \\cdots & 0 \\\\\n",
    "        \\vdots & \\vdots & \\ddots & \\ddots & \\ddots & 0 \\\\\n",
    "        & & & & & \\\\\n",
    "        0 & 0 & 0 & 0 & 1 & -2 \n",
    "    \\end{pmatrix} \\cdot\n",
    "    \\begin{pmatrix}\n",
    "        x_1 \\\\\n",
    "        x_2 \\\\ \n",
    "        x_3 \\\\\n",
    "        \\vdots \\\\\n",
    "        x_n\n",
    "    \\end{pmatrix} = 0\n",
    "$\n",
    "\n"
   ]
  },
  {
   "cell_type": "code",
   "execution_count": 6,
   "metadata": {},
   "outputs": [
    {
     "name": "stdout",
     "output_type": "stream",
     "text": [
      "[0. 0. 0. 0. 0. 0. 0. 0. 0. 0. 0. 0. 0. 0. 0. 0. 0. 0. 0. 0. 0. 0. 0. 0.\n",
      " 0. 0. 0. 0. 0. 0. 0. 0. 0. 0. 0. 0. 0. 0. 0. 0. 0. 0. 0. 0. 0. 0. 0. 0.\n",
      " 0. 0. 0. 0. 0. 0. 0. 0. 0. 0. 0. 0. 0. 0. 0. 0. 0. 0. 0. 0. 0. 0. 0. 0.\n",
      " 0. 0. 0. 0. 0. 0. 0. 0. 0. 0. 0. 0. 0. 0. 0. 0. 0. 0. 0. 0. 0. 0. 0. 0.\n",
      " 0. 0. 0. 0. 0. 0. 0. 0. 0. 0. 0. 0. 0. 0. 0. 0. 0. 0. 0. 0. 0. 0. 0. 0.\n",
      " 0. 0. 0. 0. 0. 0. 0. 0. 0. 0. 0. 0. 0. 0. 0. 0. 0. 0. 0. 0. 0. 0. 0. 0.\n",
      " 0. 0. 0. 0. 0. 0. 0. 0. 0. 0. 0. 0. 0. 0. 0. 0. 0. 0. 0. 0. 0. 0. 0. 0.\n",
      " 0. 0. 0. 0. 0. 0. 0. 0. 0. 0. 0. 0. 0. 0. 0. 0. 0. 0. 0. 0. 0. 0. 0. 0.\n",
      " 0. 0. 0. 0. 0. 0. 0. 0. 0. 0. 0. 0. 0. 0. 0. 0. 0. 0. 0. 0. 0. 0. 0. 0.\n",
      " 0. 0. 0. 0. 0. 0. 0. 0. 0. 0. 0. 0. 0. 0. 0. 0. 0. 0. 0. 0. 0. 0. 0. 0.\n",
      " 0. 0. 0. 0. 0. 0. 0. 0. 0. 0. 0. 0. 0. 0. 0. 0. 0. 0. 0. 0. 0. 0. 0. 0.\n",
      " 0. 0. 0. 0. 0. 0. 0. 0. 0. 0. 0. 0. 0. 0. 0. 0. 0. 0. 0. 0. 0. 0. 0. 0.\n",
      " 0. 0. 0. 0. 0. 0. 0. 0. 0. 0. 0. 0. 0. 0. 0. 0. 0. 0. 0. 0. 0. 0. 0. 0.\n",
      " 0. 0. 0. 0. 0. 0. 0. 0. 0. 0. 0. 0. 0. 0. 0. 0. 0. 0. 0. 0. 0. 0. 0. 0.\n",
      " 0. 0. 0. 0. 0. 0. 0. 0. 0. 0. 0. 0. 0. 0. 0. 0. 0. 0. 0. 0. 0. 0. 0. 0.\n",
      " 0. 0. 0. 0. 0. 0. 0. 0. 0. 0. 0. 0. 0. 0. 0. 0. 0. 0. 0. 0. 0. 0. 0. 0.\n",
      " 0. 0. 0. 0. 0. 0. 0. 0. 0. 0. 0. 0. 0. 0. 0. 0. 0. 0. 0. 0. 0. 0. 0. 0.\n",
      " 0. 0. 0. 0. 0. 0. 0. 0. 0. 0. 0. 0. 0. 0. 0. 0. 0. 0. 0. 0. 0. 0. 0. 0.\n",
      " 0. 0. 0. 0. 0. 0. 0. 0. 0. 0. 0. 0. 0. 0. 0. 0. 0. 0. 0. 0. 0. 0. 0. 0.\n",
      " 0. 0. 0. 0. 0. 0. 0. 0. 0. 0. 0. 0. 0. 0. 0. 0. 0. 0. 0. 0. 0. 0. 0. 0.\n",
      " 0. 0. 0. 0. 0. 0. 0. 0. 0. 0. 0. 0. 0. 0. 0. 0. 0. 0. 0. 0. 0. 0. 0. 0.\n",
      " 0. 0. 0. 0. 0. 0. 0. 0. 0. 0. 0. 0. 0. 0. 0. 0. 0. 0. 0. 0. 0. 0. 0. 0.\n",
      " 0. 0. 0. 0. 0. 0. 0. 0. 0. 0. 0. 0. 0. 0. 0. 0. 0. 0. 0. 0. 0. 0. 0. 0.\n",
      " 0. 0. 0. 0. 0. 0. 0. 0. 0. 0. 0. 0. 0. 0. 0. 0. 0. 0. 0. 0. 0. 0. 0. 0.\n",
      " 0. 0. 0. 0. 0. 0. 0. 0. 0. 0. 0. 0. 0. 0. 0. 0. 0. 0. 0. 0. 0. 0. 0. 0.\n",
      " 0. 0. 0. 0. 0. 0. 0. 0. 0. 0. 0. 0. 0. 0. 0. 0. 0. 0. 0. 0. 0. 0. 0. 0.\n",
      " 0. 0. 0. 0. 0. 0. 0. 0. 0. 0. 0. 0. 0. 0. 0. 0. 0. 0. 0. 0. 0. 0. 0. 0.\n",
      " 0. 0. 0. 0. 0. 0. 0. 0. 0. 0. 0. 0. 0. 0. 0. 0. 0. 0. 0. 0. 0. 0. 0. 0.\n",
      " 0. 0. 0. 0. 0. 0. 0. 0. 0. 0. 0. 0. 0. 0. 0. 0. 0. 0. 0. 0. 0. 0. 0. 0.\n",
      " 0. 0. 0. 0. 0. 0. 0. 0. 0. 0. 0. 0. 0. 0. 0. 0. 0. 0. 0. 0. 0. 0. 0. 0.\n",
      " 0. 0. 0. 0. 0. 0. 0. 0. 0. 0. 0. 0. 0. 0. 0. 0. 0. 0. 0. 0. 0. 0. 0. 0.\n",
      " 0. 0. 0. 0. 0. 0. 0. 0. 0. 0. 0. 0. 0. 0. 0. 0. 0. 0. 0. 0. 0. 0. 0. 0.\n",
      " 0. 0. 0. 0. 0. 0. 0. 0. 0. 0. 0. 0. 0. 0. 0. 0. 0. 0. 0. 0. 0. 0. 0. 0.\n",
      " 0. 0. 0. 0. 0. 0. 0. 0. 0. 0. 0. 0. 0. 0. 0. 0. 0. 0. 0. 0. 0. 0. 0. 0.\n",
      " 0. 0. 0. 0. 0. 0. 0. 0. 0. 0. 0. 0. 0. 0. 0. 0. 0. 0. 0. 0. 0. 0. 0. 0.\n",
      " 0. 0. 0. 0. 0. 0. 0. 0. 0. 0. 0. 0. 0. 0. 0. 0. 0. 0. 0. 0. 0. 0. 0. 0.\n",
      " 0. 0. 0. 0. 0. 0. 0. 0. 0. 0. 0. 0. 0. 0. 0. 0. 0. 0. 0. 0. 0. 0. 0. 0.\n",
      " 0. 0. 0. 0. 0. 0. 0. 0. 0. 0. 0. 0. 0. 0. 0. 0. 0. 0. 0. 0. 0. 0. 0. 0.\n",
      " 0. 0. 0. 0. 0. 0. 0. 0. 0. 0. 0. 0. 0. 0. 0. 0. 0. 0. 0. 0. 0. 0. 0. 0.\n",
      " 0. 0. 0. 0. 0. 0. 0. 0. 0. 0. 0. 0. 0. 0. 0. 0. 0. 0. 0. 0. 0. 0. 0. 0.\n",
      " 0. 0. 0. 0. 0. 0. 0. 0. 0. 0. 0. 0. 0. 0. 0. 0. 0. 0. 0. 0. 0. 0. 0. 0.\n",
      " 0. 0. 0. 0. 0. 0. 0. 0. 0. 0. 0. 0. 0. 0. 0. 0.]\n"
     ]
    }
   ],
   "source": [
    "N = 1000\n",
    "dx = 1 / (N + 1)\n",
    "xs = np.linspace(dx, 1 - dx, N)\n",
    "\n",
    "A = np.diag([2 for k in range(N)]) + np.diag([-1 for k in range (N-1)], -1) + np.diag([-1 for k in range (N-1)], 1)\n",
    "\n",
    "a = 500\n",
    "b = 350\n",
    "x_0 = a \n",
    "x_np1 = b\n",
    "\n",
    "xpp = np.zeros(N+2)\n",
    "\n",
    "xpp[0] = x_0\n",
    "xpp[N + 1] = x_np1\n",
    "\n",
    "y = np.linalg.solve(1 / (dx**2) * A, np.zeros(N))\n",
    "\n",
    "print(y)"
   ]
  }
 ],
 "metadata": {
  "kernelspec": {
   "display_name": "Python 3",
   "language": "python",
   "name": "python3"
  },
  "language_info": {
   "codemirror_mode": {
    "name": "ipython",
    "version": 3
   },
   "file_extension": ".py",
   "mimetype": "text/x-python",
   "name": "python",
   "nbconvert_exporter": "python",
   "pygments_lexer": "ipython3",
   "version": "3.12.3"
  }
 },
 "nbformat": 4,
 "nbformat_minor": 2
}
